{
 "cells": [
  {
   "cell_type": "code",
   "execution_count": 18,
   "id": "814aa9a9",
   "metadata": {},
   "outputs": [],
   "source": [
    "# Install the transformers library\n",
    "# !pip install transformers"
   ]
  },
  {
   "cell_type": "code",
   "execution_count": 19,
   "id": "f3d6f48b",
   "metadata": {},
   "outputs": [],
   "source": [
    "from transformers import pipeline\n",
    "\n",
    "import warnings\n",
    "warnings.filterwarnings(\"ignore\")"
   ]
  },
  {
   "cell_type": "code",
   "execution_count": 22,
   "id": "87cce83f",
   "metadata": {},
   "outputs": [],
   "source": [
    "def sentimentAnalyzerModel():\n",
    "    # Load a sentiment analysis pipeline\n",
    "    sentiment_analyzer = pipeline(\"sentiment-analysis\")\n",
    "\n",
    "    # Enter prompt\n",
    "    promt = input(\"Write here: \")\n",
    "    result = sentiment_analyzer(promt)\n",
    "    \n",
    "    return result"
   ]
  },
  {
   "cell_type": "code",
   "execution_count": 24,
   "id": "3e2f965d",
   "metadata": {},
   "outputs": [
    {
     "name": "stderr",
     "output_type": "stream",
     "text": [
      "No model was supplied, defaulted to distilbert-base-uncased-finetuned-sst-2-english and revision af0f99b (https://huggingface.co/distilbert-base-uncased-finetuned-sst-2-english).\n",
      "Using a pipeline without specifying a model name and revision in production is not recommended.\n"
     ]
    },
    {
     "name": "stdout",
     "output_type": "stream",
     "text": [
      "Write here: today is not a good day.\n",
      "\n",
      "Report:  NEGATIVE  result with score  0.9998 %\n"
     ]
    }
   ],
   "source": [
    "report = sentimentAnalyzerModel()\n",
    "print(\"\\nReport: \",report[0][\"label\"],\" result with score \",str(round(report[0][\"score\"],4)),\"%\")"
   ]
  },
  {
   "cell_type": "code",
   "execution_count": 25,
   "id": "e49ff912",
   "metadata": {},
   "outputs": [
    {
     "name": "stderr",
     "output_type": "stream",
     "text": [
      "No model was supplied, defaulted to distilbert-base-uncased-finetuned-sst-2-english and revision af0f99b (https://huggingface.co/distilbert-base-uncased-finetuned-sst-2-english).\n",
      "Using a pipeline without specifying a model name and revision in production is not recommended.\n"
     ]
    },
    {
     "name": "stdout",
     "output_type": "stream",
     "text": [
      "Write here: today is bad day.\n",
      "\n",
      "Report:  NEGATIVE  result with score  0.9997 %\n"
     ]
    }
   ],
   "source": [
    "report = sentimentAnalyzerModel()\n",
    "print(\"\\nReport: \",report[0][\"label\"],\" result with score \",str(round(report[0][\"score\"],4)),\"%\")"
   ]
  },
  {
   "cell_type": "code",
   "execution_count": 26,
   "id": "82f4a32c",
   "metadata": {},
   "outputs": [
    {
     "name": "stderr",
     "output_type": "stream",
     "text": [
      "No model was supplied, defaulted to distilbert-base-uncased-finetuned-sst-2-english and revision af0f99b (https://huggingface.co/distilbert-base-uncased-finetuned-sst-2-english).\n",
      "Using a pipeline without specifying a model name and revision in production is not recommended.\n"
     ]
    },
    {
     "name": "stdout",
     "output_type": "stream",
     "text": [
      "Write here: today is a good day.\n",
      "\n",
      "Report:  POSITIVE  result with score  0.9999 %\n"
     ]
    }
   ],
   "source": [
    "report = sentimentAnalyzerModel()\n",
    "print(\"\\nReport: \",report[0][\"label\"],\" result with score \",str(round(report[0][\"score\"],4)),\"%\")"
   ]
  },
  {
   "cell_type": "markdown",
   "id": "af97d1f0",
   "metadata": {},
   "source": [
    "                                            -:END:-"
   ]
  }
 ],
 "metadata": {
  "kernelspec": {
   "display_name": "Python 3 (ipykernel)",
   "language": "python",
   "name": "python3"
  },
  "language_info": {
   "codemirror_mode": {
    "name": "ipython",
    "version": 3
   },
   "file_extension": ".py",
   "mimetype": "text/x-python",
   "name": "python",
   "nbconvert_exporter": "python",
   "pygments_lexer": "ipython3",
   "version": "3.9.12"
  }
 },
 "nbformat": 4,
 "nbformat_minor": 5
}
